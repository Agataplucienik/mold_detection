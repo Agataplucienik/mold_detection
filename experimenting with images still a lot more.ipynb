{
 "cells": [
  {
   "cell_type": "markdown",
   "metadata": {
    "id": "4Anz_bzMaIQK"
   },
   "source": [
    "## Installations"
   ]
  },
  {
   "cell_type": "code",
   "execution_count": 1,
   "metadata": {
    "id": "S5KdrMEEMF86"
   },
   "outputs": [],
   "source": [
    "#pip install Pillow\n",
    "#pip install rembg"
   ]
  },
  {
   "cell_type": "markdown",
   "metadata": {
    "id": "1RftNLjta8tp"
   },
   "source": [
    "## Importing modules"
   ]
  },
  {
   "cell_type": "code",
   "execution_count": 2,
   "metadata": {
    "id": "mUflwnRYLQef"
   },
   "outputs": [
    {
     "name": "stderr",
     "output_type": "stream",
     "text": [
      "D:\\ANALYTICS\\_Software\\Anaconda\\Lib\\site-packages\\paramiko\\transport.py:219: CryptographyDeprecationWarning: Blowfish has been deprecated\n",
      "  \"class\": algorithms.Blowfish,\n"
     ]
    }
   ],
   "source": [
    "#### Importing libraries\n",
    "import requests\n",
    "import numpy as np\n",
    "from rembg import remove\n",
    "from PIL import Image\n",
    "from io import BytesIO"
   ]
  },
  {
   "cell_type": "code",
   "execution_count": 3,
   "metadata": {},
   "outputs": [],
   "source": [
    "# Imports\n",
    "import pandas as pd\n",
    "import numpy as np \n",
    "import matplotlib.pyplot as plt \n",
    "import sklearn\n",
    "import cv2\n",
    "from sklearn.cluster import KMeans\n",
    "from collections import Counter\n",
    "from skimage.color import rgb2lab, deltaE_cie76"
   ]
  },
  {
   "cell_type": "markdown",
   "metadata": {
    "id": "5UGoc3WlL1TE"
   },
   "source": [
    "## Removing the background"
   ]
  },
  {
   "cell_type": "code",
   "execution_count": 4,
   "metadata": {
    "id": "S9nEC9xtY-tg"
   },
   "outputs": [],
   "source": [
    "def loading_removing_background(url):\n",
    "    '''\n",
    "    Tuned for GitHub URLs of image files. Converts into raw URL, imports\n",
    "    image from raw URL, removes the background, returns processed image.\n",
    "    '''\n",
    "    raw_url = url + '?raw=true'\n",
    "    page = requests.get(raw_url)\n",
    "    input_image = Image.open(BytesIO(page.content))\n",
    "    output_image = remove(input_image)\n",
    "    output_image = cv2.cvtColor(np.array(output_image), cv2.COLOR_RGB2BGR)\n",
    "    return output_image"
   ]
  },
  {
   "cell_type": "code",
   "execution_count": 5,
   "metadata": {
    "id": "OSEWEnH6XRr9"
   },
   "outputs": [],
   "source": [
    "# Calling the function\n",
    "#url = 'https://github.com/seblap86/mold_detection/blob/main/prototype/test_images/lemon.png'\n",
    "url = 'https://github.com/seblap86/mold_detection/blob/main/prototype/test_images/orange.png'\n",
    "output = loading_removing_background(url)\n",
    "#output"
   ]
  },
  {
   "cell_type": "markdown",
   "metadata": {},
   "source": [
    "#### Some reshaping for whatever reason"
   ]
  },
  {
   "cell_type": "code",
   "execution_count": 6,
   "metadata": {},
   "outputs": [],
   "source": [
    "#output = output.reshape(output.shape[0] * output.shape[1], output.shape[2])"
   ]
  },
  {
   "cell_type": "code",
   "execution_count": 7,
   "metadata": {},
   "outputs": [],
   "source": [
    "#color_count = len(np.unique(output, axis=0))\n",
    "#color_count"
   ]
  },
  {
   "cell_type": "code",
   "execution_count": 8,
   "metadata": {},
   "outputs": [],
   "source": [
    "#output"
   ]
  },
  {
   "cell_type": "markdown",
   "metadata": {
    "id": "EA0oR2OfdP3N"
   },
   "source": [
    "## Importing the image into CV2"
   ]
  },
  {
   "cell_type": "code",
   "execution_count": 9,
   "metadata": {},
   "outputs": [],
   "source": [
    "# Some styling stuff\n",
    "plt.style.use('ggplot')\n",
    "plt.rcParams['font.family'] = 'sans-serif' \n",
    "plt.rcParams['font.serif'] = 'Ubuntu' \n",
    "plt.rcParams['font.monospace'] = 'Ubuntu Mono' \n",
    "plt.rcParams['font.size'] = 14 \n",
    "plt.rcParams['axes.labelsize'] = 12 \n",
    "plt.rcParams['axes.labelweight'] = 'bold' \n",
    "plt.rcParams['axes.titlesize'] = 12 \n",
    "plt.rcParams['xtick.labelsize'] = 12 \n",
    "plt.rcParams['ytick.labelsize'] = 12 \n",
    "plt.rcParams['legend.fontsize'] = 12 \n",
    "plt.rcParams['figure.titlesize'] = 12 \n",
    "plt.rcParams['image.cmap'] = 'jet' \n",
    "plt.rcParams['image.interpolation'] = 'none' \n",
    "plt.rcParams['figure.figsize'] = (10, 10) \n",
    "plt.rcParams['axes.grid']=False\n",
    "plt.rcParams['lines.linewidth'] = 2 \n",
    "plt.rcParams['lines.markersize'] = 8\n",
    "colors = ['xkcd:pale orange', 'xkcd:sea blue', 'xkcd:pale red', 'xkcd:sage green', 'xkcd:terra cotta', 'xkcd:dull purple', 'xkcd:teal', 'xkcd: goldenrod', 'xkcd:cadet blue', 'xkcd:scarlet']"
   ]
  },
  {
   "cell_type": "code",
   "execution_count": 10,
   "metadata": {},
   "outputs": [
    {
     "data": {
      "text/plain": [
       "'\\nThe main idea is that it is possible to use the image as a (N_rows X N_columns X N_channels) vector. \\nConsidering this vector, it is possible to apply the K Means algorithm and identify k clusters, that will be our colors.\\n\\nhttps://towardsdatascience.com/image-color-identification-with-machine-learning-and-image-processing-using-python-f3dd0606bdca\\n'"
      ]
     },
     "execution_count": 10,
     "metadata": {},
     "output_type": "execute_result"
    }
   ],
   "source": [
    "'''\n",
    "The main idea is that it is possible to use the image as a (N_rows X N_columns X N_channels) vector. \n",
    "Considering this vector, it is possible to apply the K Means algorithm and identify k clusters, that will be our colors.\n",
    "\n",
    "https://towardsdatascience.com/image-color-identification-with-machine-learning-and-image-processing-using-python-f3dd0606bdca\n",
    "'''"
   ]
  },
  {
   "cell_type": "code",
   "execution_count": 11,
   "metadata": {},
   "outputs": [],
   "source": [
    "# Functions\n",
    "#def get_image(): # Gets the image\n",
    "#    image = cv2.imread(image_path)\n",
    "#    image = cv2.cvtColor(image, cv2.COLOR_BGR2RGB)\n",
    "#    return image\n",
    "\n",
    "def RGB2HEX(color): # Gets the HEX code of a... pixel((?))\n",
    "    return \"#{:02x}{:02x}{:02x}\".format(int(color[0]), int(color[1]), int(color[2]))"
   ]
  },
  {
   "cell_type": "code",
   "execution_count": 12,
   "metadata": {},
   "outputs": [],
   "source": [
    "def get_image():\n",
    "    open_cv_image = np.array(output)\n",
    "    image = cv2.cvtColor(open_cv_image, cv2.COLOR_BGR2RGB)\n",
    "    return image"
   ]
  },
  {
   "cell_type": "code",
   "execution_count": 13,
   "metadata": {},
   "outputs": [],
   "source": [
    "# Loading the image\n",
    "image = get_image()\n",
    "#image = output"
   ]
  },
  {
   "cell_type": "code",
   "execution_count": 14,
   "metadata": {},
   "outputs": [
    {
     "data": {
      "text/plain": [
       "array([[141,  73,  31],\n",
       "       [141,  73,  31],\n",
       "       [143,  75,  33],\n",
       "       ...,\n",
       "       [  1,   1,   1],\n",
       "       [  1,   2,   2],\n",
       "       [  1,   2,   2]], dtype=uint8)"
      ]
     },
     "execution_count": 14,
     "metadata": {},
     "output_type": "execute_result"
    }
   ],
   "source": [
    "# Investigations - RGB format? (yes)\n",
    "image[400]"
   ]
  },
  {
   "cell_type": "code",
   "execution_count": 15,
   "metadata": {},
   "outputs": [
    {
     "data": {
      "text/plain": [
       "725"
      ]
     },
     "execution_count": 15,
     "metadata": {},
     "output_type": "execute_result"
    }
   ],
   "source": [
    "# Height (in pixels) = Rows / first list elements of the array\n",
    "len(image) "
   ]
  },
  {
   "cell_type": "code",
   "execution_count": 16,
   "metadata": {},
   "outputs": [
    {
     "data": {
      "text/plain": [
       "1288"
      ]
     },
     "execution_count": 16,
     "metadata": {},
     "output_type": "execute_result"
    }
   ],
   "source": [
    "len(image[0]) # Width (in pixels) = \"Pixel row\" of each height row / secondary elements of the array"
   ]
  },
  {
   "cell_type": "markdown",
   "metadata": {},
   "source": [
    "## Removing black background"
   ]
  },
  {
   "cell_type": "code",
   "execution_count": 17,
   "metadata": {},
   "outputs": [
    {
     "data": {
      "text/plain": [
       "array([[0, 0, 0],\n",
       "       [0, 0, 0],\n",
       "       [0, 0, 0],\n",
       "       ...,\n",
       "       [0, 0, 0],\n",
       "       [0, 0, 0],\n",
       "       [0, 0, 0]], dtype=uint8)"
      ]
     },
     "execution_count": 17,
     "metadata": {},
     "output_type": "execute_result"
    }
   ],
   "source": [
    "image[0]"
   ]
  },
  {
   "cell_type": "code",
   "execution_count": 18,
   "metadata": {},
   "outputs": [
    {
     "data": {
      "text/plain": [
       "array([0, 0, 0], dtype=uint8)"
      ]
     },
     "execution_count": 18,
     "metadata": {},
     "output_type": "execute_result"
    }
   ],
   "source": [
    "image[0][0]"
   ]
  },
  {
   "cell_type": "code",
   "execution_count": 19,
   "metadata": {},
   "outputs": [
    {
     "name": "stdout",
     "output_type": "stream",
     "text": [
      "399312\n"
     ]
    },
    {
     "data": {
      "text/plain": [
       "[[27, 27, 34],\n",
       " [29, 31, 38],\n",
       " [32, 35, 43],\n",
       " [35, 38, 48],\n",
       " [40, 42, 53],\n",
       " [42, 44, 56],\n",
       " [45, 47, 59],\n",
       " [48, 49, 60],\n",
       " [51, 49, 60],\n",
       " [55, 51, 62],\n",
       " [60, 54, 64],\n",
       " [62, 54, 61],\n",
       " [63, 53, 59],\n",
       " [63, 53, 58],\n",
       " [60, 52, 55],\n",
       " [59, 52, 55],\n",
       " [55, 52, 55],\n",
       " [50, 50, 54],\n",
       " [46, 50, 56],\n",
       " [43, 51, 57],\n",
       " [38, 49, 57],\n",
       " [34, 47, 55],\n",
       " [32, 46, 55],\n",
       " [28, 43, 56],\n",
       " [27, 42, 54],\n",
       " [27, 40, 52],\n",
       " [31, 36, 43],\n",
       " [37, 39, 45],\n",
       " [45, 42, 46],\n",
       " [55, 47, 50],\n",
       " [61, 50, 50],\n",
       " [68, 52, 51],\n",
       " [78, 60, 56],\n",
       " [81, 62, 58],\n",
       " [84, 66, 63],\n",
       " [90, 71, 67],\n",
       " [96, 74, 70],\n",
       " [100, 76, 71],\n",
       " [106, 80, 73],\n",
       " [108, 79, 71],\n",
       " [111, 80, 70],\n",
       " [116, 83, 71],\n",
       " [120, 85, 72],\n",
       " [119, 83, 68],\n",
       " [123, 86, 69],\n",
       " [125, 87, 69],\n",
       " [119, 83, 65],\n",
       " [118, 83, 66],\n",
       " [117, 84, 71],\n",
       " [111, 83, 72]]"
      ]
     },
     "execution_count": 19,
     "metadata": {},
     "output_type": "execute_result"
    }
   ],
   "source": [
    "non_background_pixels = []\n",
    "i = 0\n",
    "for height_pixel in image:\n",
    "    for width_pixel in height_pixel:\n",
    "        if width_pixel[0] > 25 and width_pixel[1] > 25 and width_pixel[2] > 25: # For now, 25 seems a safe threshold\n",
    "            non_background_pixels.append(list(width_pixel))\n",
    "            #print(width_pixel)\n",
    "        #if width_pixel == ''\n",
    "    #print(height_pixel[i])\n",
    "    #i += 1\n",
    "print(len(non_background_pixels))\n",
    "non_background_pixels[0:50]"
   ]
  },
  {
   "cell_type": "markdown",
   "metadata": {},
   "source": [
    "## Clustering the colors"
   ]
  },
  {
   "cell_type": "code",
   "execution_count": 20,
   "metadata": {},
   "outputs": [
    {
     "name": "stderr",
     "output_type": "stream",
     "text": [
      "D:\\ANALYTICS\\_Software\\Anaconda\\Lib\\site-packages\\sklearn\\cluster\\_kmeans.py:1412: FutureWarning: The default value of `n_init` will change from 10 to 'auto' in 1.4. Set the value of `n_init` explicitly to suppress the warning\n",
      "  super()._check_params_vs_input(X, default_n_init=10)\n"
     ]
    }
   ],
   "source": [
    "number_of_colors = 10\n",
    "#modified_image = non_background_pixels.reshape(non_background_pixels.shape[0]*non_background_pixels.shape[1], 3)\n",
    "clf = KMeans(n_clusters = number_of_colors)\n",
    "labels = clf.fit_predict(non_background_pixels)"
   ]
  },
  {
   "cell_type": "code",
   "execution_count": 21,
   "metadata": {},
   "outputs": [],
   "source": [
    "counts = Counter(labels)\n",
    "center_colors = clf.cluster_centers_\n",
    "\n",
    "# Getting ordered colors by iterating through the keys\n",
    "ordered_colors = [center_colors[i] for i in counts.keys()]\n",
    "hex_colors = [RGB2HEX(ordered_colors[i]) for i in counts.keys()]\n",
    "rgb_colors = [ordered_colors[i] for i in counts.keys()]"
   ]
  },
  {
   "cell_type": "markdown",
   "metadata": {},
   "source": [
    "## Plotting the colors (centroids)"
   ]
  },
  {
   "cell_type": "code",
   "execution_count": 22,
   "metadata": {
    "scrolled": true
   },
   "outputs": [
    {
     "data": {
      "text/plain": [
       "([<matplotlib.patches.Wedge at 0x1a3551d8210>,\n",
       "  <matplotlib.patches.Wedge at 0x1a35bb3e490>,\n",
       "  <matplotlib.patches.Wedge at 0x1a35bb3fb50>,\n",
       "  <matplotlib.patches.Wedge at 0x1a35bb49150>,\n",
       "  <matplotlib.patches.Wedge at 0x1a35bb4a850>,\n",
       "  <matplotlib.patches.Wedge at 0x1a35bb4ba50>,\n",
       "  <matplotlib.patches.Wedge at 0x1a35bb58e50>,\n",
       "  <matplotlib.patches.Wedge at 0x1a35bb5a450>,\n",
       "  <matplotlib.patches.Wedge at 0x1a35bb4a510>,\n",
       "  <matplotlib.patches.Wedge at 0x1a35bb4b690>],\n",
       " [Text(1.0911007259940448, 0.13963955648478843, '#c8c4c2'),\n",
       "  Text(0.8867102330679163, 0.6509569590784338, '#b96824'),\n",
       "  Text(0.4775405460607432, 0.9909364393683417, '#92aaae'),\n",
       "  Text(-0.061776253767594755, 1.098263945720901, '#8d5225'),\n",
       "  Text(-0.9515052663292458, 0.5519399678839276, '#f7a34c'),\n",
       "  Text(-1.0563787397630195, -0.3066984808842305, '#f48d25'),\n",
       "  Text(-0.3346945051129343, -1.0478452119694055, '#5a3b29'),\n",
       "  Text(0.5873316901805036, -0.9300760644752197, '#dc7924'),\n",
       "  Text(0.8689823241412495, -0.6744403015316274, '#a07a61'),\n",
       "  Text(1.0757709118799978, -0.22960170982132966, '#d1aa91')])"
      ]
     },
     "execution_count": 22,
     "metadata": {},
     "output_type": "execute_result"
    },
    {
     "data": {
      "image/png": "[encoded data removed]",
      "text/plain": [
       "<Figure size 1000x1000 with 1 Axes>"
      ]
     },
     "metadata": {},
     "output_type": "display_data"
    }
   ],
   "source": [
    "# Plotting the colors\n",
    "plt.title(f'Colors Detection ($n={number_of_colors}$)', fontsize=20)\n",
    "plt.pie(counts.values(), labels = hex_colors, colors = hex_colors)"
   ]
  }
 ],
 "metadata": {
  "colab": {
   "collapsed_sections": [
    "4Anz_bzMaIQK"
   ],
   "provenance": []
  },
  "kernelspec": {
   "display_name": "Python 3 (ipykernel)",
   "language": "python",
   "name": "python3"
  },
  "language_info": {
   "codemirror_mode": {
    "name": "ipython",
    "version": 3
   },
   "file_extension": ".py",
   "mimetype": "text/x-python",
   "name": "python",
   "nbconvert_exporter": "python",
   "pygments_lexer": "ipython3",
   "version": "3.11.5"
  }
 },
 "nbformat": 4,
 "nbformat_minor": 1
}
